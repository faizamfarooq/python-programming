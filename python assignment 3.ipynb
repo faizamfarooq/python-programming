{
 "cells": [
  {
   "cell_type": "code",
   "execution_count": 1,
   "metadata": {},
   "outputs": [
    {
     "name": "stdout",
     "output_type": "stream",
     "text": [
      "enter first value 6\n",
      "enter Second value 7\n",
      "Enter Operator*\n",
      "42 answer\n"
     ]
    }
   ],
   "source": [
    "#code 1\n",
    "val1 = input('enter first value ')\n",
    "val2 = input('enter Second value ')\n",
    "operator = input('Enter Operator')\n",
    "val1=int(val1)\n",
    "val2=int(val2)\n",
    "\n",
    "if operator == '+':\n",
    "    val = val1 + val2\n",
    "    print(val, 'answer')\n",
    "elif operator == '-':\n",
    "    val = val1 - val2\n",
    "    print(val, 'answer')\n",
    "elif operator == '*':\n",
    "    val = val1 * val2\n",
    "    print(val, 'answer')\n",
    "elif operator == '/':\n",
    "    val = val1 / val2\n",
    "    print(val, 'answer')\n",
    "elif operator == '**':\n",
    "    val = val1 ** val2\n",
    "    print(val, 'answer')\n",
    "    \n",
    "else:\n",
    "    print('Enter Correct Operation')"
   ]
  },
  {
   "cell_type": "code",
   "execution_count": 2,
   "metadata": {},
   "outputs": [
    {
     "name": "stdout",
     "output_type": "stream",
     "text": [
      " 5 is in the range\n"
     ]
    }
   ],
   "source": [
    "#code2\n",
    "def test_range(n):\n",
    "    if n in range(2,9):\n",
    "        print( \" %s is in the range\"%str(n))\n",
    "    else :\n",
    "        print(\"The number is outside the given range.\")\n",
    "test_range(5)\n"
   ]
  },
  {
   "cell_type": "code",
   "execution_count": 4,
   "metadata": {},
   "outputs": [
    {
     "name": "stdout",
     "output_type": "stream",
     "text": [
      "faiza values\n",
      "farooq values\n",
      "house # 724, KARACHI values\n",
      "First name keys\n",
      "Last name keys\n",
      "Address keys\n"
     ]
    }
   ],
   "source": [
    "customer = {\n",
    "    \"First name\": \"faiza\",\n",
    "    \"Last name\": \"farooq\",\n",
    "    \"Address\": \"house # 724, KARACHI\"\n",
    "}\n",
    "for each_value in customer.values():\n",
    "    print(each_value, 'values')\n",
    "for each_value in customer.keys():\n",
    "    print(each_value, 'keys')"
   ]
  },
  {
   "cell_type": "code",
   "execution_count": 17,
   "metadata": {},
   "outputs": [
    {
     "name": "stdout",
     "output_type": "stream",
     "text": [
      "{'First name': 'faiza', 'Last name': 'farooq', 'Address': 'house # 724, KARACHI', 'PHONE NUM': '0308'}\n"
     ]
    }
   ],
   "source": [
    "#code 3\n",
    "customer[\"PHONE NUM\"] = '0308'\n",
    "print(customer)"
   ]
  },
  {
   "cell_type": "code",
   "execution_count": 6,
   "metadata": {},
   "outputs": [
    {
     "name": "stdout",
     "output_type": "stream",
     "text": [
      "faiza values\n",
      "farooq values\n",
      "house # 724, KARACHI values\n",
      "0300 values\n",
      "First name keys\n",
      "Last name keys\n",
      "Address keys\n",
      "PHONE NUM keys\n"
     ]
    }
   ],
   "source": [
    "for each_value in customer.values():\n",
    "    print(each_value, 'values')\n",
    "for each_value in customer.keys():\n",
    "    print(each_value, 'keys')"
   ]
  },
  {
   "cell_type": "code",
   "execution_count": 8,
   "metadata": {},
   "outputs": [
    {
     "name": "stdout",
     "output_type": "stream",
     "text": [
      "Sum : 226\n"
     ]
    }
   ],
   "source": [
    "#code 4 Program to find sum of all items in a Dictionary   \n",
    "\n",
    "def returnSum(myDict): \n",
    "      \n",
    "    sum = 0\n",
    "    for i in myDict: \n",
    "        sum = sum + myDict[i] \n",
    "      \n",
    "    return sum\n",
    "  \n",
    "# Driver Function \n",
    "dict = {'a': 70, 'b':100, 'c':56} \n",
    "print(\"Sum :\", returnSum(dict))"
   ]
  },
  {
   "cell_type": "code",
   "execution_count": 12,
   "metadata": {},
   "outputs": [
    {
     "name": "stdout",
     "output_type": "stream",
     "text": [
      "[10, 33, 36, -34]\n"
     ]
    }
   ],
   "source": [
    "#code 5 Python program to print duplicates from a list of integers \n",
    "def Repeat(x): \n",
    "    _size = len(x) \n",
    "    repeated = [] \n",
    "    for i in range(_size): \n",
    "        k = i + 1\n",
    "        for j in range(k, _size): \n",
    "            if x[i] == x[j] and x[i] not in repeated: \n",
    "                repeated.append(x[i]) \n",
    "    return repeated \n",
    "  \n",
    "list1 = [10, 243, 10, 33, 36, 240, 24, 36, 40,  \n",
    "         50, -34, 33, 65, -34, -20] \n",
    "print (Repeat(list1))"
   ]
  },
  {
   "cell_type": "code",
   "execution_count": 14,
   "metadata": {},
   "outputs": [
    {
     "name": "stdout",
     "output_type": "stream",
     "text": [
      "Key is present in the dictionary\n",
      "Key is not present in the dictionary\n"
     ]
    }
   ],
   "source": [
    "#code 6\n",
    "\n",
    "d = {1: 9, 2: 22, 3: 33, 4: 44, 5: 55, 6: 66}\n",
    "def is_key_present(x):\n",
    "  if x in d:\n",
    "      print('Key is present in the dictionary')\n",
    "  else:\n",
    "      print('Key is not present in the dictionary')\n",
    "is_key_present(4)\n",
    "is_key_present(11)"
   ]
  },
  {
   "cell_type": "code",
   "execution_count": 16,
   "metadata": {},
   "outputs": [
    {
     "name": "stdout",
     "output_type": "stream",
     "text": [
      "Value is not present\n",
      "Value is Present,  value = 50\n"
     ]
    }
   ],
   "source": [
    "#code 7\n",
    "\n",
    "def checkKey(dict, key): \n",
    "      \n",
    "    if key in dict.keys(): \n",
    "        print(\"Value is Present, \", end =\" \") \n",
    "        print(\"value =\", dict[key]) \n",
    "    else: \n",
    "        print(\"Value is not present\") \n",
    "   \n",
    "dict = {'a': 50, 'b':100, 'c':150} \n",
    "  \n",
    "key = 'f'\n",
    "checkKey(dict, key) \n",
    "  \n",
    "key = 'a'\n",
    "checkKey(dict, key)"
   ]
  },
  {
   "cell_type": "code",
   "execution_count": null,
   "metadata": {},
   "outputs": [],
   "source": []
  }
 ],
 "metadata": {
  "kernelspec": {
   "display_name": "Python 3",
   "language": "python",
   "name": "python3"
  },
  "language_info": {
   "codemirror_mode": {
    "name": "ipython",
    "version": 3
   },
   "file_extension": ".py",
   "mimetype": "text/x-python",
   "name": "python",
   "nbconvert_exporter": "python",
   "pygments_lexer": "ipython3",
   "version": "3.7.3"
  }
 },
 "nbformat": 4,
 "nbformat_minor": 2
}
