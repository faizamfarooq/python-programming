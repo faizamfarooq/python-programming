{
 "cells": [
  {
   "cell_type": "code",
   "execution_count": 1,
   "metadata": {},
   "outputs": [
    {
     "name": "stdout",
     "output_type": "stream",
     "text": [
      "Animal Farm is one of my favorite books.\n"
     ]
    }
   ],
   "source": [
    "                              #QUESTION 4\n",
    "    \n",
    "def favorite_book(title):\n",
    "  \n",
    "    print(title + \" is one of my favorite books.\")\n",
    "\n",
    "favorite_book('Animal Farm')"
   ]
  },
  {
   "cell_type": "code",
   "execution_count": 2,
   "metadata": {},
   "outputs": [
    {
     "name": "stdout",
     "output_type": "stream",
     "text": [
      "Guess a random number between 1 and 20.\n",
      "Attempt 1\n",
      "Your Guess: 5\n",
      "Too low.\n",
      "Attempt 2\n",
      "Your Guess: 8\n",
      "Too low.\n",
      "Attempt 3\n",
      "Your Guess: 15\n",
      "Too high.\n",
      "You ran out of tries. The number was 14.\n"
     ]
    }
   ],
   "source": [
    "\n",
    "# Q No.5\n",
    "\n",
    "import random\n",
    "\n",
    "\n",
    "def main():\n",
    "\n",
    "    print(\"Guess a random number between 1 and 20.\")\n",
    "    secret_number = random.randrange(0, 20)\n",
    "    user_attempt_number = 1\n",
    "    user_guess = 0\n",
    "    \n",
    "    while user_guess != secret_number and user_attempt_number < 4:\n",
    "        print(\"Attempt\", user_attempt_number)\n",
    "        user_input_text = input(\"Your Guess: \")\n",
    "        user_guess = int(user_input_text)\n",
    "\n",
    "        if user_guess > secret_number:\n",
    "            print(\"Too high.\")\n",
    "        elif user_guess < secret_number:\n",
    "            print(\"Too low.\")\n",
    "        else:\n",
    "            print(\"Correct Number!\")\n",
    "\n",
    "        user_attempt_number += 1\n",
    "\n",
    "    if user_guess != secret_number:\n",
    "        print(\"You ran out of tries. The number was \" + str(secret_number) + \".\")\n",
    "\n",
    "main()"
   ]
  },
  {
   "cell_type": "code",
   "execution_count": 3,
   "metadata": {},
   "outputs": [
    {
     "name": "stdout",
     "output_type": "stream",
     "text": [
      "{'first_name': 'Faiza', 'last_name': 'Farooq', 'age': 22, 'city': 'Karachi'}\n"
     ]
    }
   ],
   "source": [
    "# Q No.1\n",
    "\n",
    "person={\n",
    "    \"first_name\":\"Faiza\",\n",
    "    \"last_name\":\"Farooq\",\n",
    "    \"age\":22,\n",
    "    \"city\":\"Karachi\"\n",
    "}\n",
    "\n",
    "print(person)"
   ]
  },
  {
   "cell_type": "code",
   "execution_count": 4,
   "metadata": {},
   "outputs": [
    {
     "name": "stdout",
     "output_type": "stream",
     "text": [
      "Undergraduate\n"
     ]
    }
   ],
   "source": [
    "person[\"qualification\"]='Undergraduate'\n",
    "print(person[\"qualification\"])"
   ]
  },
  {
   "cell_type": "code",
   "execution_count": 5,
   "metadata": {},
   "outputs": [
    {
     "name": "stdout",
     "output_type": "stream",
     "text": [
      "{'first_name': 'Faiza', 'last_name': 'Farooq', 'age': 22, 'city': 'Karachi', 'qualification': 'Undergraduate'}\n"
     ]
    }
   ],
   "source": [
    "print(person)"
   ]
  },
  {
   "cell_type": "code",
   "execution_count": 6,
   "metadata": {},
   "outputs": [
    {
     "name": "stdout",
     "output_type": "stream",
     "text": [
      "{'first_name': 'Faiza', 'last_name': 'Farooq', 'age': 22, 'city': 'Karachi'}\n"
     ]
    }
   ],
   "source": [
    "del person[\"qualification\"]\n",
    "print(person)"
   ]
  },
  {
   "cell_type": "code",
   "execution_count": 7,
   "metadata": {},
   "outputs": [
    {
     "name": "stdout",
     "output_type": "stream",
     "text": [
      "Karachi {'country': 'Pakistan', 'population': '15.7 million', 'fact': 'Karachi is biggest city of Pakistan.'}\n",
      "New_York {'country': 'USA', 'population': '8.5 million', 'fact': 'New York City is the largest city in the United States.'}\n",
      "Istanbul {'country': 'Turkey', 'population': '14.9 million', 'fact': 'Istanbul is the only city in the world which is both in Europe and Asia geographicaly.'}\n"
     ]
    }
   ],
   "source": [
    "# Q No.2\n",
    "    \n",
    "cities={\n",
    "    \"Karachi\":{\n",
    "        \"country\":\"Pakistan\",\n",
    "        \"population\":\"15.7 million\",\n",
    "        \"fact\":\"Karachi is biggest city of Pakistan.\"},\n",
    "    \n",
    "    \"New_York\":{\n",
    "        \"country\":\"USA\",\n",
    "        \"population\":\"8.5 million\",\n",
    "        \"fact\":\"New York City is the largest city in the United States.\"},\n",
    "    \n",
    "    \"Istanbul\":{\n",
    "        \"country\":\"Turkey\",\n",
    "        \"population\":\"14.9 million\",\n",
    "        \"fact\":\"Istanbul is the only city in the world which is both in Europe and Asia geographicaly.\"}\n",
    "}\n",
    "for key, value in cities.items() :\n",
    "    print (key, value)\n"
   ]
  },
  {
   "cell_type": "code",
   "execution_count": null,
   "metadata": {},
   "outputs": [
    {
     "name": "stdout",
     "output_type": "stream",
     "text": [
      "Your Age: 5\n",
      "Your ticket fare is $10\n",
      "Your Age: 3\n",
      "Your ticket fare is $10\n",
      "Your Age: 22\n",
      "Your ticket fare is $15\n",
      "Your Age: 2\n",
      "free ticket\n"
     ]
    }
   ],
   "source": [
    "# Q No.3\n",
    "while True:\n",
    "    age=input(\"Your Age: \")\n",
    "    age = int(age)\n",
    "    if age < 3:\n",
    "        print(\"free ticket\")\n",
    "    elif age >= 3 and age <= 12:\n",
    "        print(\"Your ticket fare is $10\")\n",
    "    else:\n",
    "        print(\"Your ticket fare is $15\")"
   ]
  },
  {
   "cell_type": "code",
   "execution_count": null,
   "metadata": {},
   "outputs": [],
   "source": []
  }
 ],
 "metadata": {
  "kernelspec": {
   "display_name": "Python 3",
   "language": "python",
   "name": "python3"
  },
  "language_info": {
   "codemirror_mode": {
    "name": "ipython",
    "version": 3
   },
   "file_extension": ".py",
   "mimetype": "text/x-python",
   "name": "python",
   "nbconvert_exporter": "python",
   "pygments_lexer": "ipython3",
   "version": "3.7.3"
  }
 },
 "nbformat": 4,
 "nbformat_minor": 2
}
