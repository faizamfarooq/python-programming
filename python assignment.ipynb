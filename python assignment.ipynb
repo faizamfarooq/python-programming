{
 "cells": [
  {
   "cell_type": "code",
   "execution_count": 1,
   "metadata": {},
   "outputs": [
    {
     "name": "stdout",
     "output_type": "stream",
     "text": [
      "Twinkle, twinkle, little star,\n",
      "       How I wonder what you are!\n",
      "              Up above the world so high,\n",
      "              How I wonder what you are!\n",
      "       Up above the world so high,\n",
      "Twinkle, twinkle, little star,\n"
     ]
    }
   ],
   "source": [
    "#code1\n",
    "\n",
    "w = \"Twinkle, twinkle, little star,\"\n",
    "x = \"How I wonder what you are!\"\n",
    "y = \"Up above the world so high,\"\n",
    "z = \"Like a diamond in the sky. \"\n",
    "print (w+\"\\n\"+\"       \"+x+\"\\n\"+\"       \"+\"       \"+y+\"\\n\"+\"       \"+\"       \"+x+\"\\n\"+\"       \"+y+\"\\n\"+w)"
   ]
  },
  {
   "cell_type": "code",
   "execution_count": 2,
   "metadata": {},
   "outputs": [
    {
     "name": "stdout",
     "output_type": "stream",
     "text": [
      "3.7.3\n"
     ]
    }
   ],
   "source": [
    "#code2\n",
    "\n",
    "from platform import python_version\n",
    "print(python_version())"
   ]
  },
  {
   "cell_type": "code",
   "execution_count": 3,
   "metadata": {},
   "outputs": [
    {
     "name": "stdout",
     "output_type": "stream",
     "text": [
      "Current date and time : \n",
      "2019-11-05 18:53:53\n"
     ]
    }
   ],
   "source": [
    "#code3\n",
    "\n",
    "import datetime\n",
    "curr = datetime.datetime.now()\n",
    "print (\"Current date and time : \")\n",
    "print (curr.strftime(\"%Y-%m-%d %H:%M:%S\"))"
   ]
  },
  {
   "cell_type": "code",
   "execution_count": 4,
   "metadata": {},
   "outputs": [
    {
     "name": "stdout",
     "output_type": "stream",
     "text": [
      "Enter the Radius of the circle : 2\n",
      "Area of the circle with radius 2.0 is: 12.568\n"
     ]
    }
   ],
   "source": [
    "#code4\n",
    "x = float(input (\"Enter the Radius of the circle : \"))\n",
    "print (\"Area of the circle with radius \" + str(x) + \" is: \" + str(3.142 * x**2))"
   ]
  },
  {
   "cell_type": "code",
   "execution_count": 5,
   "metadata": {},
   "outputs": [
    {
     "name": "stdout",
     "output_type": "stream",
     "text": [
      "Enter First Number : 13\n",
      "Enter Second Number : 22\n",
      "The sum of 13 and 22 is 35.0\n"
     ]
    }
   ],
   "source": [
    "#code6 \n",
    "a = (input (\"Enter First Number : \"))\n",
    "b = (input (\"Enter Second Number : \"))\n",
    "sum = float(a) + float(b)\n",
    "print('The sum of {0} and {1} is {2}'.format(a, b, sum))"
   ]
  },
  {
   "cell_type": "code",
   "execution_count": 8,
   "metadata": {},
   "outputs": [
    {
     "name": "stdout",
     "output_type": "stream",
     "text": [
      "Enter First Name is faiza\n",
      "Enter Last Name is farooq\n",
      "Your Name in Reverse Order is farooq faiza\n"
     ]
    }
   ],
   "source": [
    "#code5\n",
    "\n",
    "fn = (input (\"Enter First Name is \"))\n",
    "ln = (input (\"Enter Last Name is \"))\n",
    "print (\"Your Name in Reverse Order is \" + ln + \" \" + fn)"
   ]
  },
  {
   "cell_type": "code",
   "execution_count": null,
   "metadata": {},
   "outputs": [],
   "source": []
  }
 ],
 "metadata": {
  "kernelspec": {
   "display_name": "Python 3",
   "language": "python",
   "name": "python3"
  },
  "language_info": {
   "codemirror_mode": {
    "name": "ipython",
    "version": 3
   },
   "file_extension": ".py",
   "mimetype": "text/x-python",
   "name": "python",
   "nbconvert_exporter": "python",
   "pygments_lexer": "ipython3",
   "version": "3.7.3"
  }
 },
 "nbformat": 4,
 "nbformat_minor": 2
}
